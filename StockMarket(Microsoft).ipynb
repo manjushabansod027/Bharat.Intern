{
 "cells": [
  {
   "cell_type": "markdown",
   "metadata": {
    "id": "4fE07C6hUjIk"
   },
   "source": [
    "## Stock market prediction and forecasting using LSTM by Ganesh Masurkar"
   ]
  },
  {
   "cell_type": "markdown",
   "metadata": {
    "id": "AtgOMZwlUqcn"
   },
   "source": [
    "#### STEP 1 : IMPORTING LIBRARIES AND DATA TO BE USED"
   ]
  },
  {
   "cell_type": "code",
   "execution_count": 6,
   "metadata": {
    "id": "G3R3VF1BUgxC"
   },
   "outputs": [],
   "source": [
    "### Data Collection\n",
    "import pandas_datareader as pdr\n",
    "key=\"\""
   ]
  },
  {
   "cell_type": "code",
   "execution_count": 2,
   "metadata": {
    "id": "VM9hD39fHi8p"
   },
   "outputs": [],
   "source": [
    "#importing libraries to be used\n",
    "import numpy as np # for linear algebra\n",
    "import pandas as pd # data preprocessing\n",
    "import matplotlib.pyplot as plt # data visualization library\n",
    "import seaborn as sns # data visualization library\n",
    "%matplotlib inline\n",
    "import warnings\n",
    "warnings.filterwarnings('ignore') # ignore warnings\n",
    "\n",
    "from sklearn.preprocessing import MinMaxScaler # for normalization\n",
    "from keras.models import Sequential\n",
    "from keras.layers import Dense, Dropout, LSTM, Bidirectional"
   ]
  },
  {
   "cell_type": "code",
   "execution_count": 3,
   "metadata": {
    "id": "UibApHTNUQsS"
   },
   "outputs": [],
   "source": [
    "df=pd.read_csv('MSFT.csv')"
   ]
  },
  {
   "cell_type": "code",
   "execution_count": 4,
   "metadata": {
    "colab": {
     "base_uri": "https://localhost:8080/",
     "height": 206
    },
    "id": "rnY8p6MiUXek",
    "outputId": "e9b96d4d-5d75-4d1e-c2f7-bc206d2b9bed"
   },
   "outputs": [
    {
     "data": {
      "text/html": [
       "\n",
       "  <div id=\"df-154121f1-bc3b-41e9-8a2c-c84a579b75a8\" class=\"colab-df-container\">\n",
       "    <div>\n",
       "<style scoped>\n",
       "    .dataframe tbody tr th:only-of-type {\n",
       "        vertical-align: middle;\n",
       "    }\n",
       "\n",
       "    .dataframe tbody tr th {\n",
       "        vertical-align: top;\n",
       "    }\n",
       "\n",
       "    .dataframe thead th {\n",
       "        text-align: right;\n",
       "    }\n",
       "</style>\n",
       "<table border=\"1\" class=\"dataframe\">\n",
       "  <thead>\n",
       "    <tr style=\"text-align: right;\">\n",
       "      <th></th>\n",
       "      <th>Date</th>\n",
       "      <th>Open</th>\n",
       "      <th>High</th>\n",
       "      <th>Low</th>\n",
       "      <th>Close</th>\n",
       "      <th>Adj Close</th>\n",
       "      <th>Volume</th>\n",
       "    </tr>\n",
       "  </thead>\n",
       "  <tbody>\n",
       "    <tr>\n",
       "      <th>0</th>\n",
       "      <td>1986-03-13</td>\n",
       "      <td>0.088542</td>\n",
       "      <td>0.101563</td>\n",
       "      <td>0.088542</td>\n",
       "      <td>0.097222</td>\n",
       "      <td>0.061434</td>\n",
       "      <td>1031788800</td>\n",
       "    </tr>\n",
       "    <tr>\n",
       "      <th>1</th>\n",
       "      <td>1986-03-14</td>\n",
       "      <td>0.097222</td>\n",
       "      <td>0.102431</td>\n",
       "      <td>0.097222</td>\n",
       "      <td>0.100694</td>\n",
       "      <td>0.063628</td>\n",
       "      <td>308160000</td>\n",
       "    </tr>\n",
       "    <tr>\n",
       "      <th>2</th>\n",
       "      <td>1986-03-17</td>\n",
       "      <td>0.100694</td>\n",
       "      <td>0.103299</td>\n",
       "      <td>0.100694</td>\n",
       "      <td>0.102431</td>\n",
       "      <td>0.064725</td>\n",
       "      <td>133171200</td>\n",
       "    </tr>\n",
       "    <tr>\n",
       "      <th>3</th>\n",
       "      <td>1986-03-18</td>\n",
       "      <td>0.102431</td>\n",
       "      <td>0.103299</td>\n",
       "      <td>0.098958</td>\n",
       "      <td>0.099826</td>\n",
       "      <td>0.063079</td>\n",
       "      <td>67766400</td>\n",
       "    </tr>\n",
       "    <tr>\n",
       "      <th>4</th>\n",
       "      <td>1986-03-19</td>\n",
       "      <td>0.099826</td>\n",
       "      <td>0.100694</td>\n",
       "      <td>0.097222</td>\n",
       "      <td>0.098090</td>\n",
       "      <td>0.061982</td>\n",
       "      <td>47894400</td>\n",
       "    </tr>\n",
       "  </tbody>\n",
       "</table>\n",
       "</div>\n",
       "    <div class=\"colab-df-buttons\">\n",
       "\n",
       "  <div class=\"colab-df-container\">\n",
       "    <button class=\"colab-df-convert\" onclick=\"convertToInteractive('df-154121f1-bc3b-41e9-8a2c-c84a579b75a8')\"\n",
       "            title=\"Convert this dataframe to an interactive table.\"\n",
       "            style=\"display:none;\">\n",
       "\n",
       "  <svg xmlns=\"http://www.w3.org/2000/svg\" height=\"24px\" viewBox=\"0 -960 960 960\">\n",
       "    <path d=\"M120-120v-720h720v720H120Zm60-500h600v-160H180v160Zm220 220h160v-160H400v160Zm0 220h160v-160H400v160ZM180-400h160v-160H180v160Zm440 0h160v-160H620v160ZM180-180h160v-160H180v160Zm440 0h160v-160H620v160Z\"/>\n",
       "  </svg>\n",
       "    </button>\n",
       "\n",
       "  <style>\n",
       "    .colab-df-container {\n",
       "      display:flex;\n",
       "      gap: 12px;\n",
       "    }\n",
       "\n",
       "    .colab-df-convert {\n",
       "      background-color: #E8F0FE;\n",
       "      border: none;\n",
       "      border-radius: 50%;\n",
       "      cursor: pointer;\n",
       "      display: none;\n",
       "      fill: #1967D2;\n",
       "      height: 32px;\n",
       "      padding: 0 0 0 0;\n",
       "      width: 32px;\n",
       "    }\n",
       "\n",
       "    .colab-df-convert:hover {\n",
       "      background-color: #E2EBFA;\n",
       "      box-shadow: 0px 1px 2px rgba(60, 64, 67, 0.3), 0px 1px 3px 1px rgba(60, 64, 67, 0.15);\n",
       "      fill: #174EA6;\n",
       "    }\n",
       "\n",
       "    .colab-df-buttons div {\n",
       "      margin-bottom: 4px;\n",
       "    }\n",
       "\n",
       "    [theme=dark] .colab-df-convert {\n",
       "      background-color: #3B4455;\n",
       "      fill: #D2E3FC;\n",
       "    }\n",
       "\n",
       "    [theme=dark] .colab-df-convert:hover {\n",
       "      background-color: #434B5C;\n",
       "      box-shadow: 0px 1px 3px 1px rgba(0, 0, 0, 0.15);\n",
       "      filter: drop-shadow(0px 1px 2px rgba(0, 0, 0, 0.3));\n",
       "      fill: #FFFFFF;\n",
       "    }\n",
       "  </style>\n",
       "\n",
       "    <script>\n",
       "      const buttonEl =\n",
       "        document.querySelector('#df-154121f1-bc3b-41e9-8a2c-c84a579b75a8 button.colab-df-convert');\n",
       "      buttonEl.style.display =\n",
       "        google.colab.kernel.accessAllowed ? 'block' : 'none';\n",
       "\n",
       "      async function convertToInteractive(key) {\n",
       "        const element = document.querySelector('#df-154121f1-bc3b-41e9-8a2c-c84a579b75a8');\n",
       "        const dataTable =\n",
       "          await google.colab.kernel.invokeFunction('convertToInteractive',\n",
       "                                                    [key], {});\n",
       "        if (!dataTable) return;\n",
       "\n",
       "        const docLinkHtml = 'Like what you see? Visit the ' +\n",
       "          '<a target=\"_blank\" href=https://colab.research.google.com/notebooks/data_table.ipynb>data table notebook</a>'\n",
       "          + ' to learn more about interactive tables.';\n",
       "        element.innerHTML = '';\n",
       "        dataTable['output_type'] = 'display_data';\n",
       "        await google.colab.output.renderOutput(dataTable, element);\n",
       "        const docLink = document.createElement('div');\n",
       "        docLink.innerHTML = docLinkHtml;\n",
       "        element.appendChild(docLink);\n",
       "      }\n",
       "    </script>\n",
       "  </div>\n",
       "\n",
       "\n",
       "<div id=\"df-d5944e3e-375a-41a9-868a-291b344c6395\">\n",
       "  <button class=\"colab-df-quickchart\" onclick=\"quickchart('df-d5944e3e-375a-41a9-868a-291b344c6395')\"\n",
       "            title=\"Suggest charts.\"\n",
       "            style=\"display:none;\">\n",
       "\n",
       "<svg xmlns=\"http://www.w3.org/2000/svg\" height=\"24px\"viewBox=\"0 0 24 24\"\n",
       "     width=\"24px\">\n",
       "    <g>\n",
       "        <path d=\"M19 3H5c-1.1 0-2 .9-2 2v14c0 1.1.9 2 2 2h14c1.1 0 2-.9 2-2V5c0-1.1-.9-2-2-2zM9 17H7v-7h2v7zm4 0h-2V7h2v10zm4 0h-2v-4h2v4z\"/>\n",
       "    </g>\n",
       "</svg>\n",
       "  </button>\n",
       "\n",
       "<style>\n",
       "  .colab-df-quickchart {\n",
       "      --bg-color: #E8F0FE;\n",
       "      --fill-color: #1967D2;\n",
       "      --hover-bg-color: #E2EBFA;\n",
       "      --hover-fill-color: #174EA6;\n",
       "      --disabled-fill-color: #AAA;\n",
       "      --disabled-bg-color: #DDD;\n",
       "  }\n",
       "\n",
       "  [theme=dark] .colab-df-quickchart {\n",
       "      --bg-color: #3B4455;\n",
       "      --fill-color: #D2E3FC;\n",
       "      --hover-bg-color: #434B5C;\n",
       "      --hover-fill-color: #FFFFFF;\n",
       "      --disabled-bg-color: #3B4455;\n",
       "      --disabled-fill-color: #666;\n",
       "  }\n",
       "\n",
       "  .colab-df-quickchart {\n",
       "    background-color: var(--bg-color);\n",
       "    border: none;\n",
       "    border-radius: 50%;\n",
       "    cursor: pointer;\n",
       "    display: none;\n",
       "    fill: var(--fill-color);\n",
       "    height: 32px;\n",
       "    padding: 0;\n",
       "    width: 32px;\n",
       "  }\n",
       "\n",
       "  .colab-df-quickchart:hover {\n",
       "    background-color: var(--hover-bg-color);\n",
       "    box-shadow: 0 1px 2px rgba(60, 64, 67, 0.3), 0 1px 3px 1px rgba(60, 64, 67, 0.15);\n",
       "    fill: var(--button-hover-fill-color);\n",
       "  }\n",
       "\n",
       "  .colab-df-quickchart-complete:disabled,\n",
       "  .colab-df-quickchart-complete:disabled:hover {\n",
       "    background-color: var(--disabled-bg-color);\n",
       "    fill: var(--disabled-fill-color);\n",
       "    box-shadow: none;\n",
       "  }\n",
       "\n",
       "  .colab-df-spinner {\n",
       "    border: 2px solid var(--fill-color);\n",
       "    border-color: transparent;\n",
       "    border-bottom-color: var(--fill-color);\n",
       "    animation:\n",
       "      spin 1s steps(1) infinite;\n",
       "  }\n",
       "\n",
       "  @keyframes spin {\n",
       "    0% {\n",
       "      border-color: transparent;\n",
       "      border-bottom-color: var(--fill-color);\n",
       "      border-left-color: var(--fill-color);\n",
       "    }\n",
       "    20% {\n",
       "      border-color: transparent;\n",
       "      border-left-color: var(--fill-color);\n",
       "      border-top-color: var(--fill-color);\n",
       "    }\n",
       "    30% {\n",
       "      border-color: transparent;\n",
       "      border-left-color: var(--fill-color);\n",
       "      border-top-color: var(--fill-color);\n",
       "      border-right-color: var(--fill-color);\n",
       "    }\n",
       "    40% {\n",
       "      border-color: transparent;\n",
       "      border-right-color: var(--fill-color);\n",
       "      border-top-color: var(--fill-color);\n",
       "    }\n",
       "    60% {\n",
       "      border-color: transparent;\n",
       "      border-right-color: var(--fill-color);\n",
       "    }\n",
       "    80% {\n",
       "      border-color: transparent;\n",
       "      border-right-color: var(--fill-color);\n",
       "      border-bottom-color: var(--fill-color);\n",
       "    }\n",
       "    90% {\n",
       "      border-color: transparent;\n",
       "      border-bottom-color: var(--fill-color);\n",
       "    }\n",
       "  }\n",
       "</style>\n",
       "\n",
       "  <script>\n",
       "    async function quickchart(key) {\n",
       "      const quickchartButtonEl =\n",
       "        document.querySelector('#' + key + ' button');\n",
       "      quickchartButtonEl.disabled = true;  // To prevent multiple clicks.\n",
       "      quickchartButtonEl.classList.add('colab-df-spinner');\n",
       "      try {\n",
       "        const charts = await google.colab.kernel.invokeFunction(\n",
       "            'suggestCharts', [key], {});\n",
       "      } catch (error) {\n",
       "        console.error('Error during call to suggestCharts:', error);\n",
       "      }\n",
       "      quickchartButtonEl.classList.remove('colab-df-spinner');\n",
       "      quickchartButtonEl.classList.add('colab-df-quickchart-complete');\n",
       "    }\n",
       "    (() => {\n",
       "      let quickchartButtonEl =\n",
       "        document.querySelector('#df-d5944e3e-375a-41a9-868a-291b344c6395 button');\n",
       "      quickchartButtonEl.style.display =\n",
       "        google.colab.kernel.accessAllowed ? 'block' : 'none';\n",
       "    })();\n",
       "  </script>\n",
       "</div>\n",
       "    </div>\n",
       "  </div>\n"
      ],
      "text/plain": [
       "         Date      Open      High       Low     Close  Adj Close      Volume\n",
       "0  1986-03-13  0.088542  0.101563  0.088542  0.097222   0.061434  1031788800\n",
       "1  1986-03-14  0.097222  0.102431  0.097222  0.100694   0.063628   308160000\n",
       "2  1986-03-17  0.100694  0.103299  0.100694  0.102431   0.064725   133171200\n",
       "3  1986-03-18  0.102431  0.103299  0.098958  0.099826   0.063079    67766400\n",
       "4  1986-03-19  0.099826  0.100694  0.097222  0.098090   0.061982    47894400"
      ]
     },
     "execution_count": 4,
     "metadata": {},
     "output_type": "execute_result"
    }
   ],
   "source": [
    "df.head()"
   ]
  },
  {
   "cell_type": "code",
   "execution_count": 5,
   "metadata": {
    "colab": {
     "base_uri": "https://localhost:8080/",
     "height": 206
    },
    "id": "7yXNkkyxUZo3",
    "outputId": "2437f736-14f3-4850-c560-ea9a2ac8e24c"
   },
   "outputs": [
    {
     "data": {
      "text/html": [
       "\n",
       "  <div id=\"df-dfcff1d2-833e-4caa-9921-c6409548292c\" class=\"colab-df-container\">\n",
       "    <div>\n",
       "<style scoped>\n",
       "    .dataframe tbody tr th:only-of-type {\n",
       "        vertical-align: middle;\n",
       "    }\n",
       "\n",
       "    .dataframe tbody tr th {\n",
       "        vertical-align: top;\n",
       "    }\n",
       "\n",
       "    .dataframe thead th {\n",
       "        text-align: right;\n",
       "    }\n",
       "</style>\n",
       "<table border=\"1\" class=\"dataframe\">\n",
       "  <thead>\n",
       "    <tr style=\"text-align: right;\">\n",
       "      <th></th>\n",
       "      <th>Date</th>\n",
       "      <th>Open</th>\n",
       "      <th>High</th>\n",
       "      <th>Low</th>\n",
       "      <th>Close</th>\n",
       "      <th>Adj Close</th>\n",
       "      <th>Volume</th>\n",
       "    </tr>\n",
       "  </thead>\n",
       "  <tbody>\n",
       "    <tr>\n",
       "      <th>9078</th>\n",
       "      <td>2022-03-18</td>\n",
       "      <td>295.369995</td>\n",
       "      <td>301.000000</td>\n",
       "      <td>292.730011</td>\n",
       "      <td>300.429993</td>\n",
       "      <td>300.429993</td>\n",
       "      <td>43317000</td>\n",
       "    </tr>\n",
       "    <tr>\n",
       "      <th>9079</th>\n",
       "      <td>2022-03-21</td>\n",
       "      <td>298.890015</td>\n",
       "      <td>300.140015</td>\n",
       "      <td>294.899994</td>\n",
       "      <td>299.160004</td>\n",
       "      <td>299.160004</td>\n",
       "      <td>28351200</td>\n",
       "    </tr>\n",
       "    <tr>\n",
       "      <th>9080</th>\n",
       "      <td>2022-03-22</td>\n",
       "      <td>299.799988</td>\n",
       "      <td>305.000000</td>\n",
       "      <td>298.769989</td>\n",
       "      <td>304.059998</td>\n",
       "      <td>304.059998</td>\n",
       "      <td>27599700</td>\n",
       "    </tr>\n",
       "    <tr>\n",
       "      <th>9081</th>\n",
       "      <td>2022-03-23</td>\n",
       "      <td>300.510010</td>\n",
       "      <td>303.230011</td>\n",
       "      <td>297.720001</td>\n",
       "      <td>299.489990</td>\n",
       "      <td>299.489990</td>\n",
       "      <td>25715400</td>\n",
       "    </tr>\n",
       "    <tr>\n",
       "      <th>9082</th>\n",
       "      <td>2022-03-24</td>\n",
       "      <td>299.140015</td>\n",
       "      <td>304.200012</td>\n",
       "      <td>298.320007</td>\n",
       "      <td>304.100006</td>\n",
       "      <td>304.100006</td>\n",
       "      <td>24446900</td>\n",
       "    </tr>\n",
       "  </tbody>\n",
       "</table>\n",
       "</div>\n",
       "    <div class=\"colab-df-buttons\">\n",
       "\n",
       "  <div class=\"colab-df-container\">\n",
       "    <button class=\"colab-df-convert\" onclick=\"convertToInteractive('df-dfcff1d2-833e-4caa-9921-c6409548292c')\"\n",
       "            title=\"Convert this dataframe to an interactive table.\"\n",
       "            style=\"display:none;\">\n",
       "\n",
       "  <svg xmlns=\"http://www.w3.org/2000/svg\" height=\"24px\" viewBox=\"0 -960 960 960\">\n",
       "    <path d=\"M120-120v-720h720v720H120Zm60-500h600v-160H180v160Zm220 220h160v-160H400v160Zm0 220h160v-160H400v160ZM180-400h160v-160H180v160Zm440 0h160v-160H620v160ZM180-180h160v-160H180v160Zm440 0h160v-160H620v160Z\"/>\n",
       "  </svg>\n",
       "    </button>\n",
       "\n",
       "  <style>\n",
       "    .colab-df-container {\n",
       "      display:flex;\n",
       "      gap: 12px;\n",
       "    }\n",
       "\n",
       "    .colab-df-convert {\n",
       "      background-color: #E8F0FE;\n",
       "      border: none;\n",
       "      border-radius: 50%;\n",
       "      cursor: pointer;\n",
       "      display: none;\n",
       "      fill: #1967D2;\n",
       "      height: 32px;\n",
       "      padding: 0 0 0 0;\n",
       "      width: 32px;\n",
       "    }\n",
       "\n",
       "    .colab-df-convert:hover {\n",
       "      background-color: #E2EBFA;\n",
       "      box-shadow: 0px 1px 2px rgba(60, 64, 67, 0.3), 0px 1px 3px 1px rgba(60, 64, 67, 0.15);\n",
       "      fill: #174EA6;\n",
       "    }\n",
       "\n",
       "    .colab-df-buttons div {\n",
       "      margin-bottom: 4px;\n",
       "    }\n",
       "\n",
       "    [theme=dark] .colab-df-convert {\n",
       "      background-color: #3B4455;\n",
       "      fill: #D2E3FC;\n",
       "    }\n",
       "\n",
       "    [theme=dark] .colab-df-convert:hover {\n",
       "      background-color: #434B5C;\n",
       "      box-shadow: 0px 1px 3px 1px rgba(0, 0, 0, 0.15);\n",
       "      filter: drop-shadow(0px 1px 2px rgba(0, 0, 0, 0.3));\n",
       "      fill: #FFFFFF;\n",
       "    }\n",
       "  </style>\n",
       "\n",
       "    <script>\n",
       "      const buttonEl =\n",
       "        document.querySelector('#df-dfcff1d2-833e-4caa-9921-c6409548292c button.colab-df-convert');\n",
       "      buttonEl.style.display =\n",
       "        google.colab.kernel.accessAllowed ? 'block' : 'none';\n",
       "\n",
       "      async function convertToInteractive(key) {\n",
       "        const element = document.querySelector('#df-dfcff1d2-833e-4caa-9921-c6409548292c');\n",
       "        const dataTable =\n",
       "          await google.colab.kernel.invokeFunction('convertToInteractive',\n",
       "                                                    [key], {});\n",
       "        if (!dataTable) return;\n",
       "\n",
       "        const docLinkHtml = 'Like what you see? Visit the ' +\n",
       "          '<a target=\"_blank\" href=https://colab.research.google.com/notebooks/data_table.ipynb>data table notebook</a>'\n",
       "          + ' to learn more about interactive tables.';\n",
       "        element.innerHTML = '';\n",
       "        dataTable['output_type'] = 'display_data';\n",
       "        await google.colab.output.renderOutput(dataTable, element);\n",
       "        const docLink = document.createElement('div');\n",
       "        docLink.innerHTML = docLinkHtml;\n",
       "        element.appendChild(docLink);\n",
       "      }\n",
       "    </script>\n",
       "  </div>\n",
       "\n",
       "\n",
       "<div id=\"df-e66c9731-2ddc-4866-88e8-04dfbcc6e153\">\n",
       "  <button class=\"colab-df-quickchart\" onclick=\"quickchart('df-e66c9731-2ddc-4866-88e8-04dfbcc6e153')\"\n",
       "            title=\"Suggest charts.\"\n",
       "            style=\"display:none;\">\n",
       "\n",
       "<svg xmlns=\"http://www.w3.org/2000/svg\" height=\"24px\"viewBox=\"0 0 24 24\"\n",
       "     width=\"24px\">\n",
       "    <g>\n",
       "        <path d=\"M19 3H5c-1.1 0-2 .9-2 2v14c0 1.1.9 2 2 2h14c1.1 0 2-.9 2-2V5c0-1.1-.9-2-2-2zM9 17H7v-7h2v7zm4 0h-2V7h2v10zm4 0h-2v-4h2v4z\"/>\n",
       "    </g>\n",
       "</svg>\n",
       "  </button>\n",
       "\n",
       "<style>\n",
       "  .colab-df-quickchart {\n",
       "      --bg-color: #E8F0FE;\n",
       "      --fill-color: #1967D2;\n",
       "      --hover-bg-color: #E2EBFA;\n",
       "      --hover-fill-color: #174EA6;\n",
       "      --disabled-fill-color: #AAA;\n",
       "      --disabled-bg-color: #DDD;\n",
       "  }\n",
       "\n",
       "  [theme=dark] .colab-df-quickchart {\n",
       "      --bg-color: #3B4455;\n",
       "      --fill-color: #D2E3FC;\n",
       "      --hover-bg-color: #434B5C;\n",
       "      --hover-fill-color: #FFFFFF;\n",
       "      --disabled-bg-color: #3B4455;\n",
       "      --disabled-fill-color: #666;\n",
       "  }\n",
       "\n",
       "  .colab-df-quickchart {\n",
       "    background-color: var(--bg-color);\n",
       "    border: none;\n",
       "    border-radius: 50%;\n",
       "    cursor: pointer;\n",
       "    display: none;\n",
       "    fill: var(--fill-color);\n",
       "    height: 32px;\n",
       "    padding: 0;\n",
       "    width: 32px;\n",
       "  }\n",
       "\n",
       "  .colab-df-quickchart:hover {\n",
       "    background-color: var(--hover-bg-color);\n",
       "    box-shadow: 0 1px 2px rgba(60, 64, 67, 0.3), 0 1px 3px 1px rgba(60, 64, 67, 0.15);\n",
       "    fill: var(--button-hover-fill-color);\n",
       "  }\n",
       "\n",
       "  .colab-df-quickchart-complete:disabled,\n",
       "  .colab-df-quickchart-complete:disabled:hover {\n",
       "    background-color: var(--disabled-bg-color);\n",
       "    fill: var(--disabled-fill-color);\n",
       "    box-shadow: none;\n",
       "  }\n",
       "\n",
       "  .colab-df-spinner {\n",
       "    border: 2px solid var(--fill-color);\n",
       "    border-color: transparent;\n",
       "    border-bottom-color: var(--fill-color);\n",
       "    animation:\n",
       "      spin 1s steps(1) infinite;\n",
       "  }\n",
       "\n",
       "  @keyframes spin {\n",
       "    0% {\n",
       "      border-color: transparent;\n",
       "      border-bottom-color: var(--fill-color);\n",
       "      border-left-color: var(--fill-color);\n",
       "    }\n",
       "    20% {\n",
       "      border-color: transparent;\n",
       "      border-left-color: var(--fill-color);\n",
       "      border-top-color: var(--fill-color);\n",
       "    }\n",
       "    30% {\n",
       "      border-color: transparent;\n",
       "      border-left-color: var(--fill-color);\n",
       "      border-top-color: var(--fill-color);\n",
       "      border-right-color: var(--fill-color);\n",
       "    }\n",
       "    40% {\n",
       "      border-color: transparent;\n",
       "      border-right-color: var(--fill-color);\n",
       "      border-top-color: var(--fill-color);\n",
       "    }\n",
       "    60% {\n",
       "      border-color: transparent;\n",
       "      border-right-color: var(--fill-color);\n",
       "    }\n",
       "    80% {\n",
       "      border-color: transparent;\n",
       "      border-right-color: var(--fill-color);\n",
       "      border-bottom-color: var(--fill-color);\n",
       "    }\n",
       "    90% {\n",
       "      border-color: transparent;\n",
       "      border-bottom-color: var(--fill-color);\n",
       "    }\n",
       "  }\n",
       "</style>\n",
       "\n",
       "  <script>\n",
       "    async function quickchart(key) {\n",
       "      const quickchartButtonEl =\n",
       "        document.querySelector('#' + key + ' button');\n",
       "      quickchartButtonEl.disabled = true;  // To prevent multiple clicks.\n",
       "      quickchartButtonEl.classList.add('colab-df-spinner');\n",
       "      try {\n",
       "        const charts = await google.colab.kernel.invokeFunction(\n",
       "            'suggestCharts', [key], {});\n",
       "      } catch (error) {\n",
       "        console.error('Error during call to suggestCharts:', error);\n",
       "      }\n",
       "      quickchartButtonEl.classList.remove('colab-df-spinner');\n",
       "      quickchartButtonEl.classList.add('colab-df-quickchart-complete');\n",
       "    }\n",
       "    (() => {\n",
       "      let quickchartButtonEl =\n",
       "        document.querySelector('#df-e66c9731-2ddc-4866-88e8-04dfbcc6e153 button');\n",
       "      quickchartButtonEl.style.display =\n",
       "        google.colab.kernel.accessAllowed ? 'block' : 'none';\n",
       "    })();\n",
       "  </script>\n",
       "</div>\n",
       "    </div>\n",
       "  </div>\n"
      ],
      "text/plain": [
       "            Date        Open        High         Low       Close   Adj Close  \\\n",
       "9078  2022-03-18  295.369995  301.000000  292.730011  300.429993  300.429993   \n",
       "9079  2022-03-21  298.890015  300.140015  294.899994  299.160004  299.160004   \n",
       "9080  2022-03-22  299.799988  305.000000  298.769989  304.059998  304.059998   \n",
       "9081  2022-03-23  300.510010  303.230011  297.720001  299.489990  299.489990   \n",
       "9082  2022-03-24  299.140015  304.200012  298.320007  304.100006  304.100006   \n",
       "\n",
       "        Volume  \n",
       "9078  43317000  \n",
       "9079  28351200  \n",
       "9080  27599700  \n",
       "9081  25715400  \n",
       "9082  24446900  "
      ]
     },
     "execution_count": 5,
     "metadata": {},
     "output_type": "execute_result"
    }
   ],
   "source": [
    "df.tail()"
   ]
  },
  {
   "cell_type": "markdown",
   "metadata": {
    "id": "5327GeDyUyg2"
   },
   "source": [
    "### STEP 2 : GATHERING INSIGHTS"
   ]
  },
  {
   "cell_type": "code",
   "execution_count": 7,
   "metadata": {
    "colab": {
     "base_uri": "https://localhost:8080/"
    },
    "id": "JQPH6fEnUcJi",
    "outputId": "93eb110b-c81e-4eea-f9c8-db0b7819e4cb"
   },
   "outputs": [
    {
     "name": "stdout",
     "output_type": "stream",
     "text": [
      "Shape of data: (9083, 7)\n"
     ]
    }
   ],
   "source": [
    "# shape of data\n",
    "print(\"Shape of data:\",df.shape)"
   ]
  },
  {
   "cell_type": "code",
   "execution_count": 8,
   "metadata": {
    "colab": {
     "base_uri": "https://localhost:8080/"
    },
    "id": "7ldJYoxGU20S",
    "outputId": "a41c7cc0-7709-4158-8890-4a74266a1c74"
   },
   "outputs": [
    {
     "name": "stdout",
     "output_type": "stream",
     "text": [
      "<class 'pandas.core.frame.DataFrame'>\n",
      "RangeIndex: 9083 entries, 0 to 9082\n",
      "Data columns (total 7 columns):\n",
      " #   Column     Non-Null Count  Dtype  \n",
      "---  ------     --------------  -----  \n",
      " 0   Date       9083 non-null   object \n",
      " 1   Open       9083 non-null   float64\n",
      " 2   High       9083 non-null   float64\n",
      " 3   Low        9083 non-null   float64\n",
      " 4   Close      9083 non-null   float64\n",
      " 5   Adj Close  9083 non-null   float64\n",
      " 6   Volume     9083 non-null   int64  \n",
      "dtypes: float64(5), int64(1), object(1)\n",
      "memory usage: 496.9+ KB\n"
     ]
    }
   ],
   "source": [
    "# summary of data\n",
    "df.info()"
   ]
  },
  {
   "cell_type": "code",
   "execution_count": 9,
   "metadata": {
    "colab": {
     "base_uri": "https://localhost:8080/",
     "height": 300
    },
    "id": "Dr317LnHU5AO",
    "outputId": "535f0070-32b9-421a-fa46-3c757fe7f0e1"
   },
   "outputs": [
    {
     "data": {
      "text/html": [
       "\n",
       "  <div id=\"df-a419fc45-5c50-4e31-a1c6-a3033352acf0\" class=\"colab-df-container\">\n",
       "    <div>\n",
       "<style scoped>\n",
       "    .dataframe tbody tr th:only-of-type {\n",
       "        vertical-align: middle;\n",
       "    }\n",
       "\n",
       "    .dataframe tbody tr th {\n",
       "        vertical-align: top;\n",
       "    }\n",
       "\n",
       "    .dataframe thead th {\n",
       "        text-align: right;\n",
       "    }\n",
       "</style>\n",
       "<table border=\"1\" class=\"dataframe\">\n",
       "  <thead>\n",
       "    <tr style=\"text-align: right;\">\n",
       "      <th></th>\n",
       "      <th>Open</th>\n",
       "      <th>High</th>\n",
       "      <th>Low</th>\n",
       "      <th>Close</th>\n",
       "      <th>Adj Close</th>\n",
       "      <th>Volume</th>\n",
       "    </tr>\n",
       "  </thead>\n",
       "  <tbody>\n",
       "    <tr>\n",
       "      <th>count</th>\n",
       "      <td>9083.000000</td>\n",
       "      <td>9083.000000</td>\n",
       "      <td>9083.000000</td>\n",
       "      <td>9083.000000</td>\n",
       "      <td>9083.000000</td>\n",
       "      <td>9.083000e+03</td>\n",
       "    </tr>\n",
       "    <tr>\n",
       "      <th>mean</th>\n",
       "      <td>41.324936</td>\n",
       "      <td>41.760887</td>\n",
       "      <td>40.878488</td>\n",
       "      <td>41.335628</td>\n",
       "      <td>36.256120</td>\n",
       "      <td>5.875055e+07</td>\n",
       "    </tr>\n",
       "    <tr>\n",
       "      <th>std</th>\n",
       "      <td>59.696905</td>\n",
       "      <td>60.272218</td>\n",
       "      <td>59.081728</td>\n",
       "      <td>59.714567</td>\n",
       "      <td>59.981436</td>\n",
       "      <td>3.845200e+07</td>\n",
       "    </tr>\n",
       "    <tr>\n",
       "      <th>min</th>\n",
       "      <td>0.088542</td>\n",
       "      <td>0.092014</td>\n",
       "      <td>0.088542</td>\n",
       "      <td>0.090278</td>\n",
       "      <td>0.057046</td>\n",
       "      <td>2.304000e+06</td>\n",
       "    </tr>\n",
       "    <tr>\n",
       "      <th>25%</th>\n",
       "      <td>4.050781</td>\n",
       "      <td>4.102051</td>\n",
       "      <td>4.027344</td>\n",
       "      <td>4.075195</td>\n",
       "      <td>2.575089</td>\n",
       "      <td>3.461230e+07</td>\n",
       "    </tr>\n",
       "    <tr>\n",
       "      <th>50%</th>\n",
       "      <td>26.820000</td>\n",
       "      <td>27.100000</td>\n",
       "      <td>26.520000</td>\n",
       "      <td>26.840000</td>\n",
       "      <td>18.948530</td>\n",
       "      <td>5.203200e+07</td>\n",
       "    </tr>\n",
       "    <tr>\n",
       "      <th>75%</th>\n",
       "      <td>40.034999</td>\n",
       "      <td>40.443751</td>\n",
       "      <td>39.500000</td>\n",
       "      <td>39.937500</td>\n",
       "      <td>29.244812</td>\n",
       "      <td>7.265400e+07</td>\n",
       "    </tr>\n",
       "    <tr>\n",
       "      <th>max</th>\n",
       "      <td>344.619995</td>\n",
       "      <td>349.670013</td>\n",
       "      <td>342.200012</td>\n",
       "      <td>343.109985</td>\n",
       "      <td>342.402008</td>\n",
       "      <td>1.031789e+09</td>\n",
       "    </tr>\n",
       "  </tbody>\n",
       "</table>\n",
       "</div>\n",
       "    <div class=\"colab-df-buttons\">\n",
       "\n",
       "  <div class=\"colab-df-container\">\n",
       "    <button class=\"colab-df-convert\" onclick=\"convertToInteractive('df-a419fc45-5c50-4e31-a1c6-a3033352acf0')\"\n",
       "            title=\"Convert this dataframe to an interactive table.\"\n",
       "            style=\"display:none;\">\n",
       "\n",
       "  <svg xmlns=\"http://www.w3.org/2000/svg\" height=\"24px\" viewBox=\"0 -960 960 960\">\n",
       "    <path d=\"M120-120v-720h720v720H120Zm60-500h600v-160H180v160Zm220 220h160v-160H400v160Zm0 220h160v-160H400v160ZM180-400h160v-160H180v160Zm440 0h160v-160H620v160ZM180-180h160v-160H180v160Zm440 0h160v-160H620v160Z\"/>\n",
       "  </svg>\n",
       "    </button>\n",
       "\n",
       "  <style>\n",
       "    .colab-df-container {\n",
       "      display:flex;\n",
       "      gap: 12px;\n",
       "    }\n",
       "\n",
       "    .colab-df-convert {\n",
       "      background-color: #E8F0FE;\n",
       "      border: none;\n",
       "      border-radius: 50%;\n",
       "      cursor: pointer;\n",
       "      display: none;\n",
       "      fill: #1967D2;\n",
       "      height: 32px;\n",
       "      padding: 0 0 0 0;\n",
       "      width: 32px;\n",
       "    }\n",
       "\n",
       "    .colab-df-convert:hover {\n",
       "      background-color: #E2EBFA;\n",
       "      box-shadow: 0px 1px 2px rgba(60, 64, 67, 0.3), 0px 1px 3px 1px rgba(60, 64, 67, 0.15);\n",
       "      fill: #174EA6;\n",
       "    }\n",
       "\n",
       "    .colab-df-buttons div {\n",
       "      margin-bottom: 4px;\n",
       "    }\n",
       "\n",
       "    [theme=dark] .colab-df-convert {\n",
       "      background-color: #3B4455;\n",
       "      fill: #D2E3FC;\n",
       "    }\n",
       "\n",
       "    [theme=dark] .colab-df-convert:hover {\n",
       "      background-color: #434B5C;\n",
       "      box-shadow: 0px 1px 3px 1px rgba(0, 0, 0, 0.15);\n",
       "      filter: drop-shadow(0px 1px 2px rgba(0, 0, 0, 0.3));\n",
       "      fill: #FFFFFF;\n",
       "    }\n",
       "  </style>\n",
       "\n",
       "    <script>\n",
       "      const buttonEl =\n",
       "        document.querySelector('#df-a419fc45-5c50-4e31-a1c6-a3033352acf0 button.colab-df-convert');\n",
       "      buttonEl.style.display =\n",
       "        google.colab.kernel.accessAllowed ? 'block' : 'none';\n",
       "\n",
       "      async function convertToInteractive(key) {\n",
       "        const element = document.querySelector('#df-a419fc45-5c50-4e31-a1c6-a3033352acf0');\n",
       "        const dataTable =\n",
       "          await google.colab.kernel.invokeFunction('convertToInteractive',\n",
       "                                                    [key], {});\n",
       "        if (!dataTable) return;\n",
       "\n",
       "        const docLinkHtml = 'Like what you see? Visit the ' +\n",
       "          '<a target=\"_blank\" href=https://colab.research.google.com/notebooks/data_table.ipynb>data table notebook</a>'\n",
       "          + ' to learn more about interactive tables.';\n",
       "        element.innerHTML = '';\n",
       "        dataTable['output_type'] = 'display_data';\n",
       "        await google.colab.output.renderOutput(dataTable, element);\n",
       "        const docLink = document.createElement('div');\n",
       "        docLink.innerHTML = docLinkHtml;\n",
       "        element.appendChild(docLink);\n",
       "      }\n",
       "    </script>\n",
       "  </div>\n",
       "\n",
       "\n",
       "<div id=\"df-9a2196ae-961d-4678-93a1-e2cb1ca23991\">\n",
       "  <button class=\"colab-df-quickchart\" onclick=\"quickchart('df-9a2196ae-961d-4678-93a1-e2cb1ca23991')\"\n",
       "            title=\"Suggest charts.\"\n",
       "            style=\"display:none;\">\n",
       "\n",
       "<svg xmlns=\"http://www.w3.org/2000/svg\" height=\"24px\"viewBox=\"0 0 24 24\"\n",
       "     width=\"24px\">\n",
       "    <g>\n",
       "        <path d=\"M19 3H5c-1.1 0-2 .9-2 2v14c0 1.1.9 2 2 2h14c1.1 0 2-.9 2-2V5c0-1.1-.9-2-2-2zM9 17H7v-7h2v7zm4 0h-2V7h2v10zm4 0h-2v-4h2v4z\"/>\n",
       "    </g>\n",
       "</svg>\n",
       "  </button>\n",
       "\n",
       "<style>\n",
       "  .colab-df-quickchart {\n",
       "      --bg-color: #E8F0FE;\n",
       "      --fill-color: #1967D2;\n",
       "      --hover-bg-color: #E2EBFA;\n",
       "      --hover-fill-color: #174EA6;\n",
       "      --disabled-fill-color: #AAA;\n",
       "      --disabled-bg-color: #DDD;\n",
       "  }\n",
       "\n",
       "  [theme=dark] .colab-df-quickchart {\n",
       "      --bg-color: #3B4455;\n",
       "      --fill-color: #D2E3FC;\n",
       "      --hover-bg-color: #434B5C;\n",
       "      --hover-fill-color: #FFFFFF;\n",
       "      --disabled-bg-color: #3B4455;\n",
       "      --disabled-fill-color: #666;\n",
       "  }\n",
       "\n",
       "  .colab-df-quickchart {\n",
       "    background-color: var(--bg-color);\n",
       "    border: none;\n",
       "    border-radius: 50%;\n",
       "    cursor: pointer;\n",
       "    display: none;\n",
       "    fill: var(--fill-color);\n",
       "    height: 32px;\n",
       "    padding: 0;\n",
       "    width: 32px;\n",
       "  }\n",
       "\n",
       "  .colab-df-quickchart:hover {\n",
       "    background-color: var(--hover-bg-color);\n",
       "    box-shadow: 0 1px 2px rgba(60, 64, 67, 0.3), 0 1px 3px 1px rgba(60, 64, 67, 0.15);\n",
       "    fill: var(--button-hover-fill-color);\n",
       "  }\n",
       "\n",
       "  .colab-df-quickchart-complete:disabled,\n",
       "  .colab-df-quickchart-complete:disabled:hover {\n",
       "    background-color: var(--disabled-bg-color);\n",
       "    fill: var(--disabled-fill-color);\n",
       "    box-shadow: none;\n",
       "  }\n",
       "\n",
       "  .colab-df-spinner {\n",
       "    border: 2px solid var(--fill-color);\n",
       "    border-color: transparent;\n",
       "    border-bottom-color: var(--fill-color);\n",
       "    animation:\n",
       "      spin 1s steps(1) infinite;\n",
       "  }\n",
       "\n",
       "  @keyframes spin {\n",
       "    0% {\n",
       "      border-color: transparent;\n",
       "      border-bottom-color: var(--fill-color);\n",
       "      border-left-color: var(--fill-color);\n",
       "    }\n",
       "    20% {\n",
       "      border-color: transparent;\n",
       "      border-left-color: var(--fill-color);\n",
       "      border-top-color: var(--fill-color);\n",
       "    }\n",
       "    30% {\n",
       "      border-color: transparent;\n",
       "      border-left-color: var(--fill-color);\n",
       "      border-top-color: var(--fill-color);\n",
       "      border-right-color: var(--fill-color);\n",
       "    }\n",
       "    40% {\n",
       "      border-color: transparent;\n",
       "      border-right-color: var(--fill-color);\n",
       "      border-top-color: var(--fill-color);\n",
       "    }\n",
       "    60% {\n",
       "      border-color: transparent;\n",
       "      border-right-color: var(--fill-color);\n",
       "    }\n",
       "    80% {\n",
       "      border-color: transparent;\n",
       "      border-right-color: var(--fill-color);\n",
       "      border-bottom-color: var(--fill-color);\n",
       "    }\n",
       "    90% {\n",
       "      border-color: transparent;\n",
       "      border-bottom-color: var(--fill-color);\n",
       "    }\n",
       "  }\n",
       "</style>\n",
       "\n",
       "  <script>\n",
       "    async function quickchart(key) {\n",
       "      const quickchartButtonEl =\n",
       "        document.querySelector('#' + key + ' button');\n",
       "      quickchartButtonEl.disabled = true;  // To prevent multiple clicks.\n",
       "      quickchartButtonEl.classList.add('colab-df-spinner');\n",
       "      try {\n",
       "        const charts = await google.colab.kernel.invokeFunction(\n",
       "            'suggestCharts', [key], {});\n",
       "      } catch (error) {\n",
       "        console.error('Error during call to suggestCharts:', error);\n",
       "      }\n",
       "      quickchartButtonEl.classList.remove('colab-df-spinner');\n",
       "      quickchartButtonEl.classList.add('colab-df-quickchart-complete');\n",
       "    }\n",
       "    (() => {\n",
       "      let quickchartButtonEl =\n",
       "        document.querySelector('#df-9a2196ae-961d-4678-93a1-e2cb1ca23991 button');\n",
       "      quickchartButtonEl.style.display =\n",
       "        google.colab.kernel.accessAllowed ? 'block' : 'none';\n",
       "    })();\n",
       "  </script>\n",
       "</div>\n",
       "    </div>\n",
       "  </div>\n"
      ],
      "text/plain": [
       "              Open         High          Low        Close    Adj Close  \\\n",
       "count  9083.000000  9083.000000  9083.000000  9083.000000  9083.000000   \n",
       "mean     41.324936    41.760887    40.878488    41.335628    36.256120   \n",
       "std      59.696905    60.272218    59.081728    59.714567    59.981436   \n",
       "min       0.088542     0.092014     0.088542     0.090278     0.057046   \n",
       "25%       4.050781     4.102051     4.027344     4.075195     2.575089   \n",
       "50%      26.820000    27.100000    26.520000    26.840000    18.948530   \n",
       "75%      40.034999    40.443751    39.500000    39.937500    29.244812   \n",
       "max     344.619995   349.670013   342.200012   343.109985   342.402008   \n",
       "\n",
       "             Volume  \n",
       "count  9.083000e+03  \n",
       "mean   5.875055e+07  \n",
       "std    3.845200e+07  \n",
       "min    2.304000e+06  \n",
       "25%    3.461230e+07  \n",
       "50%    5.203200e+07  \n",
       "75%    7.265400e+07  \n",
       "max    1.031789e+09  "
      ]
     },
     "execution_count": 9,
     "metadata": {},
     "output_type": "execute_result"
    }
   ],
   "source": [
    "df.describe()"
   ]
  },
  {
   "cell_type": "code",
   "execution_count": 10,
   "metadata": {
    "colab": {
     "base_uri": "https://localhost:8080/"
    },
    "id": "BkxCnK0PU7pQ",
    "outputId": "fcdaa02c-cfe2-45a6-d86d-b97f01af700f"
   },
   "outputs": [
    {
     "data": {
      "text/plain": [
       "Date         0\n",
       "Open         0\n",
       "High         0\n",
       "Low          0\n",
       "Close        0\n",
       "Adj Close    0\n",
       "Volume       0\n",
       "dtype: int64"
      ]
     },
     "execution_count": 10,
     "metadata": {},
     "output_type": "execute_result"
    }
   ],
   "source": [
    "# checking null values\n",
    "df.isnull().sum()"
   ]
  },
  {
   "cell_type": "markdown",
   "metadata": {
    "id": "KaNIEwCoU_05"
   },
   "source": [
    "### Here you can see no null values in the dataset"
   ]
  },
  {
   "cell_type": "code",
   "execution_count": 11,
   "metadata": {
    "colab": {
     "base_uri": "https://localhost:8080/",
     "height": 435
    },
    "id": "zBJ4lJGgVDpL",
    "outputId": "3fdc2a37-5083-468c-d251-9104c682a3e9"
   },
   "outputs": [
    {
     "data": {
      "image/png": "[encoded data removed]",
      "text/plain": [
       "<Figure size 2000x700 with 2 Axes>"
      ]
     },
     "metadata": {},
     "output_type": "display_data"
    }
   ],
   "source": [
    "# plotting open and closing price on date index\n",
    "fig, ax =plt.subplots(1,2,figsize=(20,7))\n",
    "ax[0].plot(df['Open'],label='Open',color='green')\n",
    "ax[0].set_xlabel('Date',size=20)\n",
    "ax[0].set_ylabel('Price',size=20)\n",
    "ax[0].legend()\n",
    "\n",
    "ax[1].plot(df['Close'],label='Close',color='red')\n",
    "ax[1].set_xlabel('Date',size=20)\n",
    "ax[1].set_ylabel('Price',size=20)\n",
    "ax[1].legend()\n",
    "\n",
    "fig.show()"
   ]
  },
  {
   "cell_type": "markdown",
   "metadata": {
    "id": "KciaymTWVQqV"
   },
   "source": [
    "#### mplfinance us for candlestick chart"
   ]
  },
  {
   "cell_type": "code",
   "execution_count": 12,
   "metadata": {
    "colab": {
     "base_uri": "https://localhost:8080/"
    },
    "id": "V14vurTjVJQ4",
    "outputId": "2d83857d-129e-40ec-db72-4384d4c506c1"
   },
   "outputs": [
    {
     "name": "stdout",
     "output_type": "stream",
     "text": [
      "Collecting mplfinance\n",
      "  Downloading mplfinance-0.12.10b0-py3-none-any.whl (75 kB)\n",
      "\u001b[2K     \u001b[90m━━━━━━━━━━━━━━━━━━━━━━━━━━━━━━━━━━━━━━━━\u001b[0m \u001b[32m75.0/75.0 kB\u001b[0m \u001b[31m1.1 MB/s\u001b[0m eta \u001b[36m0:00:00\u001b[0m\n",
      "\u001b[?25hRequirement already satisfied: matplotlib in /usr/local/lib/python3.10/dist-packages (from mplfinance) (3.7.1)\n",
      "Requirement already satisfied: pandas in /usr/local/lib/python3.10/dist-packages (from mplfinance) (1.5.3)\n",
      "Requirement already satisfied: contourpy>=1.0.1 in /usr/local/lib/python3.10/dist-packages (from matplotlib->mplfinance) (1.1.0)\n",
      "Requirement already satisfied: cycler>=0.10 in /usr/local/lib/python3.10/dist-packages (from matplotlib->mplfinance) (0.11.0)\n",
      "Requirement already satisfied: fonttools>=4.22.0 in /usr/local/lib/python3.10/dist-packages (from matplotlib->mplfinance) (4.42.1)\n",
      "Requirement already satisfied: kiwisolver>=1.0.1 in /usr/local/lib/python3.10/dist-packages (from matplotlib->mplfinance) (1.4.5)\n",
      "Requirement already satisfied: numpy>=1.20 in /usr/local/lib/python3.10/dist-packages (from matplotlib->mplfinance) (1.23.5)\n",
      "Requirement already satisfied: packaging>=20.0 in /usr/local/lib/python3.10/dist-packages (from matplotlib->mplfinance) (23.1)\n",
      "Requirement already satisfied: pillow>=6.2.0 in /usr/local/lib/python3.10/dist-packages (from matplotlib->mplfinance) (9.4.0)\n",
      "Requirement already satisfied: pyparsing>=2.3.1 in /usr/local/lib/python3.10/dist-packages (from matplotlib->mplfinance) (3.1.1)\n",
      "Requirement already satisfied: python-dateutil>=2.7 in /usr/local/lib/python3.10/dist-packages (from matplotlib->mplfinance) (2.8.2)\n",
      "Requirement already satisfied: pytz>=2020.1 in /usr/local/lib/python3.10/dist-packages (from pandas->mplfinance) (2023.3.post1)\n",
      "Requirement already satisfied: six>=1.5 in /usr/local/lib/python3.10/dist-packages (from python-dateutil>=2.7->matplotlib->mplfinance) (1.16.0)\n",
      "Installing collected packages: mplfinance\n",
      "Successfully installed mplfinance-0.12.10b0\n"
     ]
    }
   ],
   "source": [
    "pip install mplfinance"
   ]
  },
  {
   "cell_type": "code",
   "execution_count": 15,
   "metadata": {
    "colab": {
     "base_uri": "https://localhost:8080/",
     "height": 589
    },
    "id": "zIwF2ZpxVTYn",
    "outputId": "4bcdc245-2253-4fb0-f112-ea72ee35a71a"
   },
   "outputs": [
    {
     "data": {
      "image/png": "[encoded data removed]",
      "text/plain": [
       "<Figure size 1437.5x575 with 2 Axes>"
      ]
     },
     "metadata": {},
     "output_type": "display_data"
    }
   ],
   "source": [
    "import pandas as pd\n",
    "import mplfinance as mpf\n",
    "\n",
    "# Load your DataFrame\n",
    "df = pd.read_csv('MSFT.csv')\n",
    "\n",
    "# Convert the 'Date' column to datetime and set it as the index\n",
    "df['Date'] = pd.to_datetime(df['Date'])\n",
    "df.set_index('Date', inplace=True)\n",
    "\n",
    "# Create a new column 'Color' based on the price movement\n",
    "df['Color'] = 'g'  # Default to green\n",
    "df.loc[df['Close'] < df['Open'], 'Color'] = 'r'  # Change to red when close < open\n",
    "\n",
    "# Plot the candlestick-like chart\n",
    "mpf.plot(df, type='candle', style='charles', title='Candlestick Chart for MSFT', ylabel='Price', figratio=(10, 4), warn_too_much_data=999999)\n",
    "\n"
   ]
  },
  {
   "cell_type": "code",
   "execution_count": 16,
   "metadata": {
    "colab": {
     "base_uri": "https://localhost:8080/"
    },
    "id": "OZm9JBXQVf9J",
    "outputId": "d2a4fa22-9829-4f93-b06c-51d73d094498"
   },
   "outputs": [
    {
     "data": {
      "text/plain": [
       "6812"
      ]
     },
     "execution_count": 16,
     "metadata": {},
     "output_type": "execute_result"
    }
   ],
   "source": [
    "# splitting the data into training and test set\n",
    "training_size = round(len(df) * 0.75) # Selecting 75 % for training and 25 % for testing\n",
    "training_size"
   ]
  },
  {
   "cell_type": "code",
   "execution_count": 17,
   "metadata": {
    "colab": {
     "base_uri": "https://localhost:8080/"
    },
    "id": "GtR9hPvbVzG0",
    "outputId": "7d521a0b-6df0-44ed-dac0-14dadbb9614d"
   },
   "outputs": [
    {
     "data": {
      "text/plain": [
       "((6812, 7), (2271, 7))"
      ]
     },
     "execution_count": 17,
     "metadata": {},
     "output_type": "execute_result"
    }
   ],
   "source": [
    "train_data = df[:training_size]\n",
    "test_data  = df[training_size:]\n",
    "\n",
    "train_data.shape, test_data.shape"
   ]
  },
  {
   "cell_type": "code",
   "execution_count": 18,
   "metadata": {
    "id": "CxPtRG6uV1ft"
   },
   "outputs": [],
   "source": [
    "# Function to create sequence of data for training and testing\n",
    "\n",
    "def create_sequence(dataset):\n",
    "  sequences = []\n",
    "  labels = []\n",
    "\n",
    "  start_idx = 0\n",
    "\n",
    "  for stop_idx in range(50,len(dataset)): # Selecting 50 rows at a time\n",
    "    sequences.append(dataset.iloc[start_idx:stop_idx])\n",
    "    labels.append(dataset.iloc[stop_idx])\n",
    "    start_idx += 1\n",
    "  return (np.array(sequences),np.array(labels))"
   ]
  },
  {
   "cell_type": "code",
   "execution_count": 19,
   "metadata": {
    "colab": {
     "base_uri": "https://localhost:8080/"
    },
    "id": "T9fUSz1aV3rA",
    "outputId": "ce0d5e8d-31b4-4db6-98a0-ccaae5beadf8"
   },
   "outputs": [
    {
     "data": {
      "text/plain": [
       "((6762, 50, 7), (6762, 7), (2221, 50, 7), (2221, 7))"
      ]
     },
     "execution_count": 19,
     "metadata": {},
     "output_type": "execute_result"
    }
   ],
   "source": [
    "train_seq, train_label = create_sequence(train_data)\n",
    "test_seq, test_label = create_sequence(test_data)\n",
    "train_seq.shape, train_label.shape, test_seq.shape, test_label.shape"
   ]
  },
  {
   "cell_type": "markdown",
   "metadata": {
    "id": "V-MSTrnWV8pn"
   },
   "source": [
    "### Data Preprocessing:"
   ]
  },
  {
   "cell_type": "code",
   "execution_count": 20,
   "metadata": {
    "colab": {
     "base_uri": "https://localhost:8080/"
    },
    "id": "1hSG-5tXV52b",
    "outputId": "29300e3a-4755-4b73-f325-538ba40e4636"
   },
   "outputs": [
    {
     "data": {
      "text/plain": [
       "array([[2.02437349e-05],\n",
       "       [3.03656023e-05],\n",
       "       [3.54294513e-05],\n",
       "       ...,\n",
       "       [8.86158182e-01],\n",
       "       [8.72835309e-01],\n",
       "       [8.86274817e-01]])"
      ]
     },
     "execution_count": 20,
     "metadata": {},
     "output_type": "execute_result"
    }
   ],
   "source": [
    "data = df[['Close']].values.astype(float)\n",
    "\n",
    "# Normalize the data using Min-Max scaling\n",
    "scaler = MinMaxScaler()\n",
    "data = scaler.fit_transform(data)\n",
    "data"
   ]
  },
  {
   "cell_type": "markdown",
   "metadata": {
    "id": "DL2gobYzWL0N"
   },
   "source": [
    "### STEP 4 : CREATING LSTM MODEL"
   ]
  },
  {
   "cell_type": "code",
   "execution_count": 21,
   "metadata": {
    "colab": {
     "base_uri": "https://localhost:8080/"
    },
    "id": "JfIZQFuFWAhq",
    "outputId": "abbbc2ed-95b1-4bd4-8c12-bbb3ec2b2ddb"
   },
   "outputs": [
    {
     "name": "stdout",
     "output_type": "stream",
     "text": [
      "Model: \"sequential\"\n",
      "_________________________________________________________________\n",
      " Layer (type)                Output Shape              Param #   \n",
      "=================================================================\n",
      " lstm (LSTM)                 (None, 50, 50)            11600     \n",
      "                                                                 \n",
      " dropout (Dropout)           (None, 50, 50)            0         \n",
      "                                                                 \n",
      " lstm_1 (LSTM)               (None, 50)                20200     \n",
      "                                                                 \n",
      " dense (Dense)               (None, 2)                 102       \n",
      "                                                                 \n",
      "=================================================================\n",
      "Total params: 31902 (124.62 KB)\n",
      "Trainable params: 31902 (124.62 KB)\n",
      "Non-trainable params: 0 (0.00 Byte)\n",
      "_________________________________________________________________\n"
     ]
    }
   ],
   "source": [
    "# imported Sequential from keras.models\n",
    "model = Sequential()\n",
    "# importing Dense, Dropout, LSTM, Bidirectional from keras.layers\n",
    "model.add(LSTM(units=50, return_sequences=True, input_shape = (train_seq.shape[1], train_seq.shape[2])))\n",
    "\n",
    "model.add(Dropout(0.1))\n",
    "model.add(LSTM(units=50))\n",
    "\n",
    "model.add(Dense(2))\n",
    "\n",
    "model.compile(loss='mean_squared_error', optimizer='adam', metrics=['mean_absolute_error'])\n",
    "\n",
    "model.summary()"
   ]
  },
  {
   "cell_type": "markdown",
   "metadata": {
    "id": "0F2WdPlgWWCU"
   },
   "source": [
    "### Split Data into Train and Test Sets:"
   ]
  },
  {
   "cell_type": "code",
   "execution_count": 22,
   "metadata": {
    "id": "Z6Pxy3oAWRQm"
   },
   "outputs": [],
   "source": [
    "\n",
    "train_size = int(len(data) * 0.8)  # 80% for training, 20% for testing\n",
    "test_size = len(data) - train_size\n",
    "train_data, test_data = data[0:train_size, :], data[train_size:len(data), :]"
   ]
  },
  {
   "cell_type": "markdown",
   "metadata": {
    "id": "21Q86ENcWfKR"
   },
   "source": [
    "### Create Sequences for LSTM:"
   ]
  },
  {
   "cell_type": "code",
   "execution_count": 24,
   "metadata": {
    "id": "_rLeOrgOWhJP"
   },
   "outputs": [],
   "source": [
    "def create_sequences(data, sequence_length):\n",
    "    X, y = [], []\n",
    "    for i in range(len(data) - sequence_length):\n",
    "        X.append(data[i:i+sequence_length])\n",
    "        y.append(data[i+sequence_length])\n",
    "    return np.array(X), np.array(y)\n",
    "\n",
    "sequence_length = 10  # You can adjust this value\n",
    "X_train, y_train = create_sequences(train_data, sequence_length)\n",
    "X_test, y_test = create_sequences(test_data, sequence_length)"
   ]
  },
  {
   "cell_type": "code",
   "execution_count": 25,
   "metadata": {
    "colab": {
     "base_uri": "https://localhost:8080/"
    },
    "id": "NOL9wOVoWi-n",
    "outputId": "c7d9e7dc-02aa-48e5-9ae4-f7c66d7cfb68"
   },
   "outputs": [
    {
     "data": {
      "text/plain": [
       "array([[[2.02437349e-05],\n",
       "        [3.03656023e-05],\n",
       "        [3.54294513e-05],\n",
       "        ...,\n",
       "        [0.00000000e+00],\n",
       "        [5.06093371e-06],\n",
       "        [1.26523343e-05]],\n",
       "\n",
       "       [[3.03656023e-05],\n",
       "        [3.54294513e-05],\n",
       "        [2.78351354e-05],\n",
       "        ...,\n",
       "        [5.06093371e-06],\n",
       "        [1.26523343e-05],\n",
       "        [1.77132680e-05]],\n",
       "\n",
       "       [[3.54294513e-05],\n",
       "        [2.78351354e-05],\n",
       "        [2.27742017e-05],\n",
       "        ...,\n",
       "        [1.26523343e-05],\n",
       "        [1.77132680e-05],\n",
       "        [1.51828011e-05]],\n",
       "\n",
       "       ...,\n",
       "\n",
       "       [[1.33081928e-01],\n",
       "        [1.38271129e-01],\n",
       "        [1.38679268e-01],\n",
       "        ...,\n",
       "        [1.38067062e-01],\n",
       "        [1.36813486e-01],\n",
       "        [1.35151777e-01]],\n",
       "\n",
       "       [[1.38271129e-01],\n",
       "        [1.38679268e-01],\n",
       "        [1.39612159e-01],\n",
       "        ...,\n",
       "        [1.36813486e-01],\n",
       "        [1.35151777e-01],\n",
       "        [1.36055507e-01]],\n",
       "\n",
       "       [[1.38679268e-01],\n",
       "        [1.39612159e-01],\n",
       "        [1.40982346e-01],\n",
       "        ...,\n",
       "        [1.35151777e-01],\n",
       "        [1.36055507e-01],\n",
       "        [1.34801946e-01]]])"
      ]
     },
     "execution_count": 25,
     "metadata": {},
     "output_type": "execute_result"
    }
   ],
   "source": [
    "X_train"
   ]
  },
  {
   "cell_type": "code",
   "execution_count": 26,
   "metadata": {
    "colab": {
     "base_uri": "https://localhost:8080/"
    },
    "id": "87c7soQpWk2C",
    "outputId": "8d40e826-b348-4205-92ac-02e0f6bf0ec7"
   },
   "outputs": [
    {
     "data": {
      "text/plain": [
       "array([[1.77132680e-05],\n",
       "       [1.51828011e-05],\n",
       "       [1.26523343e-05],\n",
       "       ...,\n",
       "       [1.36055507e-01],\n",
       "       [1.34801946e-01],\n",
       "       [1.32819553e-01]])"
      ]
     },
     "execution_count": 26,
     "metadata": {},
     "output_type": "execute_result"
    }
   ],
   "source": [
    "y_train"
   ]
  },
  {
   "cell_type": "code",
   "execution_count": 27,
   "metadata": {
    "colab": {
     "base_uri": "https://localhost:8080/"
    },
    "id": "-nyTPY-zWnOe",
    "outputId": "8dda8fbc-626e-4558-c785-e83b4c238278"
   },
   "outputs": [
    {
     "data": {
      "text/plain": [
       "array([[0.13713417],\n",
       "       [0.13727993],\n",
       "       [0.13678433],\n",
       "       ...,\n",
       "       [0.88615818],\n",
       "       [0.87283531],\n",
       "       [0.88627482]])"
      ]
     },
     "execution_count": 27,
     "metadata": {},
     "output_type": "execute_result"
    }
   ],
   "source": [
    "\n",
    "y_test"
   ]
  },
  {
   "cell_type": "markdown",
   "metadata": {
    "id": "9nAMOcOGWrYZ"
   },
   "source": [
    "### Build and Train LSTM Model:"
   ]
  },
  {
   "cell_type": "code",
   "execution_count": 30,
   "metadata": {
    "id": "XCTHGLSRXIPY"
   },
   "outputs": [],
   "source": [
    "import keras\n",
    "from keras.models import Sequential\n",
    "from keras.layers import LSTM, Dense"
   ]
  },
  {
   "cell_type": "code",
   "execution_count": 31,
   "metadata": {
    "colab": {
     "base_uri": "https://localhost:8080/"
    },
    "id": "AGCfZxsjWo61",
    "outputId": "4cf68a66-2995-4197-c009-2bb4365f4614"
   },
   "outputs": [
    {
     "name": "stdout",
     "output_type": "stream",
     "text": [
      "Epoch 1/100\n",
      "114/114 [==============================] - 4s 6ms/step - loss: 3.3590e-04\n",
      "Epoch 2/100\n",
      "114/114 [==============================] - 1s 6ms/step - loss: 8.1879e-06\n",
      "Epoch 3/100\n",
      "114/114 [==============================] - 1s 6ms/step - loss: 8.5524e-06\n",
      "Epoch 4/100\n",
      "114/114 [==============================] - 1s 6ms/step - loss: 8.1972e-06\n",
      "Epoch 5/100\n",
      "114/114 [==============================] - 1s 6ms/step - loss: 7.8917e-06\n",
      "Epoch 6/100\n",
      "114/114 [==============================] - 1s 6ms/step - loss: 8.1222e-06\n",
      "Epoch 7/100\n",
      "114/114 [==============================] - 1s 7ms/step - loss: 7.7842e-06\n",
      "Epoch 8/100\n",
      "114/114 [==============================] - 1s 7ms/step - loss: 7.5102e-06\n",
      "Epoch 9/100\n",
      "114/114 [==============================] - 1s 6ms/step - loss: 7.5866e-06\n",
      "Epoch 10/100\n",
      "114/114 [==============================] - 1s 6ms/step - loss: 7.3469e-06\n",
      "Epoch 11/100\n",
      "114/114 [==============================] - 1s 6ms/step - loss: 7.4883e-06\n",
      "Epoch 12/100\n",
      "114/114 [==============================] - 1s 6ms/step - loss: 6.9414e-06\n",
      "Epoch 13/100\n",
      "114/114 [==============================] - 1s 6ms/step - loss: 6.9033e-06\n",
      "Epoch 14/100\n",
      "114/114 [==============================] - 1s 9ms/step - loss: 6.6033e-06\n",
      "Epoch 15/100\n",
      "114/114 [==============================] - 1s 10ms/step - loss: 6.3253e-06\n",
      "Epoch 16/100\n",
      "114/114 [==============================] - 1s 10ms/step - loss: 6.6329e-06\n",
      "Epoch 17/100\n",
      "114/114 [==============================] - 1s 7ms/step - loss: 5.9219e-06\n",
      "Epoch 18/100\n",
      "114/114 [==============================] - 1s 7ms/step - loss: 6.0384e-06\n",
      "Epoch 19/100\n",
      "114/114 [==============================] - 1s 9ms/step - loss: 6.2875e-06\n",
      "Epoch 20/100\n",
      "114/114 [==============================] - 1s 10ms/step - loss: 5.4424e-06\n",
      "Epoch 21/100\n",
      "114/114 [==============================] - 1s 11ms/step - loss: 5.2628e-06\n",
      "Epoch 22/100\n",
      "114/114 [==============================] - 1s 8ms/step - loss: 5.0310e-06\n",
      "Epoch 23/100\n",
      "114/114 [==============================] - 1s 6ms/step - loss: 5.1797e-06\n",
      "Epoch 24/100\n",
      "114/114 [==============================] - 1s 7ms/step - loss: 4.8034e-06\n",
      "Epoch 25/100\n",
      "114/114 [==============================] - 1s 7ms/step - loss: 4.6461e-06\n",
      "Epoch 26/100\n",
      "114/114 [==============================] - 1s 6ms/step - loss: 4.8924e-06\n",
      "Epoch 27/100\n",
      "114/114 [==============================] - 1s 6ms/step - loss: 4.3273e-06\n",
      "Epoch 28/100\n",
      "114/114 [==============================] - 1s 9ms/step - loss: 4.3976e-06\n",
      "Epoch 29/100\n",
      "114/114 [==============================] - 1s 10ms/step - loss: 4.4071e-06\n",
      "Epoch 30/100\n",
      "114/114 [==============================] - 1s 9ms/step - loss: 4.5433e-06\n",
      "Epoch 31/100\n",
      "114/114 [==============================] - 1s 7ms/step - loss: 4.1811e-06\n",
      "Epoch 32/100\n",
      "114/114 [==============================] - 1s 6ms/step - loss: 4.0052e-06\n",
      "Epoch 33/100\n",
      "114/114 [==============================] - 1s 6ms/step - loss: 3.9394e-06\n",
      "Epoch 34/100\n",
      "114/114 [==============================] - 1s 7ms/step - loss: 4.0373e-06\n",
      "Epoch 35/100\n",
      "114/114 [==============================] - 1s 11ms/step - loss: 4.0981e-06\n",
      "Epoch 36/100\n",
      "114/114 [==============================] - 1s 6ms/step - loss: 4.3531e-06\n",
      "Epoch 37/100\n",
      "114/114 [==============================] - 1s 6ms/step - loss: 4.0353e-06\n",
      "Epoch 38/100\n",
      "114/114 [==============================] - 1s 6ms/step - loss: 3.6836e-06\n",
      "Epoch 39/100\n",
      "114/114 [==============================] - 1s 6ms/step - loss: 3.6555e-06\n",
      "Epoch 40/100\n",
      "114/114 [==============================] - 1s 6ms/step - loss: 3.7298e-06\n",
      "Epoch 41/100\n",
      "114/114 [==============================] - 1s 7ms/step - loss: 3.5816e-06\n",
      "Epoch 42/100\n",
      "114/114 [==============================] - 1s 7ms/step - loss: 3.8887e-06\n",
      "Epoch 43/100\n",
      "114/114 [==============================] - 1s 8ms/step - loss: 3.3957e-06\n",
      "Epoch 44/100\n",
      "114/114 [==============================] - 1s 11ms/step - loss: 3.4510e-06\n",
      "Epoch 45/100\n",
      "114/114 [==============================] - 1s 10ms/step - loss: 3.7314e-06\n",
      "Epoch 46/100\n",
      "114/114 [==============================] - 1s 7ms/step - loss: 3.3557e-06\n",
      "Epoch 47/100\n",
      "114/114 [==============================] - 1s 9ms/step - loss: 3.3529e-06\n",
      "Epoch 48/100\n",
      "114/114 [==============================] - 1s 10ms/step - loss: 3.3068e-06\n",
      "Epoch 49/100\n",
      "114/114 [==============================] - 1s 6ms/step - loss: 3.1610e-06\n",
      "Epoch 50/100\n",
      "114/114 [==============================] - 1s 7ms/step - loss: 3.3049e-06\n",
      "Epoch 51/100\n",
      "114/114 [==============================] - 1s 6ms/step - loss: 3.1665e-06\n",
      "Epoch 52/100\n",
      "114/114 [==============================] - 1s 7ms/step - loss: 2.9278e-06\n",
      "Epoch 53/100\n",
      "114/114 [==============================] - 1s 6ms/step - loss: 3.2524e-06\n",
      "Epoch 54/100\n",
      "114/114 [==============================] - 1s 6ms/step - loss: 3.1384e-06\n",
      "Epoch 55/100\n",
      "114/114 [==============================] - 1s 6ms/step - loss: 3.1010e-06\n",
      "Epoch 56/100\n",
      "114/114 [==============================] - 1s 6ms/step - loss: 2.8758e-06\n",
      "Epoch 57/100\n",
      "114/114 [==============================] - 1s 7ms/step - loss: 2.8016e-06\n",
      "Epoch 58/100\n",
      "114/114 [==============================] - 1s 11ms/step - loss: 2.9388e-06\n",
      "Epoch 59/100\n",
      "114/114 [==============================] - 1s 11ms/step - loss: 2.7552e-06\n",
      "Epoch 60/100\n",
      "114/114 [==============================] - 1s 8ms/step - loss: 2.7654e-06\n",
      "Epoch 61/100\n",
      "114/114 [==============================] - 1s 6ms/step - loss: 2.7818e-06\n",
      "Epoch 62/100\n",
      "114/114 [==============================] - 1s 7ms/step - loss: 3.0225e-06\n",
      "Epoch 63/100\n",
      "114/114 [==============================] - 1s 6ms/step - loss: 2.8762e-06\n",
      "Epoch 64/100\n",
      "114/114 [==============================] - 1s 6ms/step - loss: 2.6109e-06\n",
      "Epoch 65/100\n",
      "114/114 [==============================] - 1s 7ms/step - loss: 2.6312e-06\n",
      "Epoch 66/100\n",
      "114/114 [==============================] - 1s 6ms/step - loss: 3.1634e-06\n",
      "Epoch 67/100\n",
      "114/114 [==============================] - 1s 6ms/step - loss: 2.6066e-06\n",
      "Epoch 68/100\n",
      "114/114 [==============================] - 1s 6ms/step - loss: 2.5180e-06\n",
      "Epoch 69/100\n",
      "114/114 [==============================] - 1s 7ms/step - loss: 2.6897e-06\n",
      "Epoch 70/100\n",
      "114/114 [==============================] - 1s 7ms/step - loss: 2.6108e-06\n",
      "Epoch 71/100\n",
      "114/114 [==============================] - 1s 7ms/step - loss: 2.7716e-06\n",
      "Epoch 72/100\n",
      "114/114 [==============================] - 1s 6ms/step - loss: 2.4418e-06\n",
      "Epoch 73/100\n",
      "114/114 [==============================] - 1s 8ms/step - loss: 2.7363e-06\n",
      "Epoch 74/100\n",
      "114/114 [==============================] - 1s 10ms/step - loss: 2.4253e-06\n",
      "Epoch 75/100\n",
      "114/114 [==============================] - 1s 10ms/step - loss: 2.4518e-06\n",
      "Epoch 76/100\n",
      "114/114 [==============================] - 1s 6ms/step - loss: 2.4293e-06\n",
      "Epoch 77/100\n",
      "114/114 [==============================] - 1s 7ms/step - loss: 2.3563e-06\n",
      "Epoch 78/100\n",
      "114/114 [==============================] - 1s 7ms/step - loss: 2.4006e-06\n",
      "Epoch 79/100\n",
      "114/114 [==============================] - 1s 6ms/step - loss: 2.3309e-06\n",
      "Epoch 80/100\n",
      "114/114 [==============================] - 1s 7ms/step - loss: 2.3866e-06\n",
      "Epoch 81/100\n",
      "114/114 [==============================] - 1s 6ms/step - loss: 2.3945e-06\n",
      "Epoch 82/100\n",
      "114/114 [==============================] - 1s 6ms/step - loss: 2.4867e-06\n",
      "Epoch 83/100\n",
      "114/114 [==============================] - 1s 7ms/step - loss: 2.6812e-06\n",
      "Epoch 84/100\n",
      "114/114 [==============================] - 1s 6ms/step - loss: 2.4625e-06\n",
      "Epoch 85/100\n",
      "114/114 [==============================] - 1s 6ms/step - loss: 2.3188e-06\n",
      "Epoch 86/100\n",
      "114/114 [==============================] - 1s 6ms/step - loss: 2.3855e-06\n",
      "Epoch 87/100\n",
      "114/114 [==============================] - 1s 6ms/step - loss: 2.4512e-06\n",
      "Epoch 88/100\n",
      "114/114 [==============================] - 1s 6ms/step - loss: 2.4014e-06\n",
      "Epoch 89/100\n",
      "114/114 [==============================] - 1s 9ms/step - loss: 2.4265e-06\n",
      "Epoch 90/100\n",
      "114/114 [==============================] - 1s 10ms/step - loss: 2.2659e-06\n",
      "Epoch 91/100\n",
      "114/114 [==============================] - 1s 11ms/step - loss: 2.5696e-06\n",
      "Epoch 92/100\n",
      "114/114 [==============================] - 1s 6ms/step - loss: 2.3412e-06\n",
      "Epoch 93/100\n",
      "114/114 [==============================] - 1s 6ms/step - loss: 2.4791e-06\n",
      "Epoch 94/100\n",
      "114/114 [==============================] - 1s 7ms/step - loss: 2.5899e-06\n",
      "Epoch 95/100\n",
      "114/114 [==============================] - 1s 6ms/step - loss: 2.3723e-06\n",
      "Epoch 96/100\n",
      "114/114 [==============================] - 1s 6ms/step - loss: 2.2564e-06\n",
      "Epoch 97/100\n",
      "114/114 [==============================] - 1s 6ms/step - loss: 2.5909e-06\n",
      "Epoch 98/100\n",
      "114/114 [==============================] - 1s 6ms/step - loss: 2.2984e-06\n",
      "Epoch 99/100\n",
      "114/114 [==============================] - 1s 6ms/step - loss: 2.3355e-06\n",
      "Epoch 100/100\n",
      "114/114 [==============================] - 1s 7ms/step - loss: 2.3092e-06\n"
     ]
    },
    {
     "data": {
      "text/plain": [
       "<keras.src.callbacks.History at 0x7d98182a7940>"
      ]
     },
     "execution_count": 31,
     "metadata": {},
     "output_type": "execute_result"
    }
   ],
   "source": [
    "model = keras.Sequential([\n",
    "    keras.layers.LSTM(50, input_shape=(sequence_length, 1)),\n",
    "    keras.layers.Dense(1)\n",
    "])\n",
    "\n",
    "model.compile(optimizer='adam', loss='mean_squared_error')\n",
    "model.fit(X_train, y_train, epochs=100, batch_size=64)"
   ]
  },
  {
   "cell_type": "markdown",
   "metadata": {
    "id": "8hgY6El4XPtr"
   },
   "source": [
    "### Make Predictions:"
   ]
  },
  {
   "cell_type": "code",
   "execution_count": 32,
   "metadata": {
    "colab": {
     "base_uri": "https://localhost:8080/"
    },
    "id": "286LR_U7WuOa",
    "outputId": "48246b04-5c1f-4dd1-f612-59ffc0585498"
   },
   "outputs": [
    {
     "name": "stdout",
     "output_type": "stream",
     "text": [
      "57/57 [==============================] - 1s 2ms/step\n"
     ]
    }
   ],
   "source": [
    "predicted = model.predict(X_test)"
   ]
  },
  {
   "cell_type": "markdown",
   "metadata": {
    "id": "4STLWvOiXmEd"
   },
   "source": [
    "### Inverse Transformations:"
   ]
  },
  {
   "cell_type": "code",
   "execution_count": 33,
   "metadata": {
    "id": "d7gBd1VzXiO1"
   },
   "outputs": [],
   "source": [
    "# If you scaled your data, you can inverse transform the predictions\n",
    "predicted = scaler.inverse_transform(predicted)\n",
    "y_test = scaler.inverse_transform(y_test)"
   ]
  },
  {
   "cell_type": "code",
   "execution_count": 37,
   "metadata": {
    "colab": {
     "base_uri": "https://localhost:8080/",
     "height": 568
    },
    "id": "ffaE4RhdXpoX",
    "outputId": "a7662fbc-9d7a-4043-883a-a186fbf70204"
   },
   "outputs": [
    {
     "data": {
      "image/png": "[encoded data removed]",
      "text/plain": [
       "<Figure size 1200x600 with 1 Axes>"
      ]
     },
     "metadata": {},
     "output_type": "display_data"
    }
   ],
   "source": [
    "import pandas as pd\n",
    "import numpy as np\n",
    "import matplotlib.pyplot as plt\n",
    "\n",
    "# Assuming you have already trained the model and made predictions\n",
    "# 'predicted' contains the predicted stock prices, and 'y_test' contains the actual stock prices\n",
    "\n",
    "# Inverse transform the predictions and actual values if you previously scaled the data\n",
    "predicted = scaler.inverse_transform(predicted)\n",
    "y_test = scaler.inverse_transform(y_test)\n",
    "\n",
    "# Create a DataFrame for better visualization\n",
    "df_predicted = pd.DataFrame({'Actual': y_test.flatten(), 'Predicted': predicted.flatten()}, index=df.index[-len(y_test):])\n",
    "\n",
    "# Plot the actual vs. predicted data with thinner lines\n",
    "plt.figure(figsize=(12, 6))\n",
    "plt.plot(df_predicted.index, df_predicted['Actual'], label='Actual', color='blue', linewidth=0.7)\n",
    "plt.plot(df_predicted.index, df_predicted['Predicted'], label='Predicted', color='green', linewidth=0.5)\n",
    "plt.xlabel('Date')\n",
    "plt.ylabel('Stock Price')\n",
    "plt.title('Actual vs. Predicted Stock Prices')\n",
    "plt.legend()\n",
    "plt.show()"
   ]
  },
  {
   "cell_type": "code",
   "execution_count": 38,
   "metadata": {
    "colab": {
     "base_uri": "https://localhost:8080/",
     "height": 568
    },
    "id": "ATolwfO8Xr4X",
    "outputId": "8ea46345-58c1-47b6-cdd4-d1bb4b32dbb8"
   },
   "outputs": [
    {
     "data": {
      "image/png": "[encoded data removed]",
      "text/plain": [
       "<Figure size 1200x600 with 1 Axes>"
      ]
     },
     "metadata": {},
     "output_type": "display_data"
    }
   ],
   "source": [
    "# Inverse transform the predictions and actual values if you previously scaled the data\n",
    "predicted = scaler.inverse_transform(predicted)\n",
    "y_test = scaler.inverse_transform(y_test)\n",
    "\n",
    "# Create a DataFrame for better visualization\n",
    "df_predicted = pd.DataFrame({'Close': y_test.flatten(), 'Predicted Close': predicted.flatten()}, index=df.index[-len(y_test):])\n",
    "\n",
    "# Plot the actual 'Close' and 'Predicted Close' data with blue and red lines, respectively\n",
    "plt.figure(figsize=(12, 6))\n",
    "plt.plot(df_predicted.index, df_predicted['Close'], label='Close', color='blue', linewidth=1)\n",
    "plt.plot(df_predicted.index, df_predicted['Predicted Close'], label='Predicted Close', color='red', linewidth=1)\n",
    "plt.xlabel('Date')\n",
    "plt.ylabel('Stock Price')\n",
    "plt.title('Actual Close vs. Predicted Close Stock Prices')\n",
    "\n",
    "plt.legend()\n",
    "plt.show()"
   ]
  },
  {
   "cell_type": "code",
   "execution_count": 39,
   "metadata": {
    "colab": {
     "base_uri": "https://localhost:8080/"
    },
    "id": "7sPDdN7ZX-km",
    "outputId": "03691121-de62-4371-fde2-34be292624b5"
   },
   "outputs": [
    {
     "data": {
      "text/plain": [
       "9083"
      ]
     },
     "execution_count": 39,
     "metadata": {},
     "output_type": "execute_result"
    }
   ],
   "source": [
    "len(data)"
   ]
  },
  {
   "cell_type": "code",
   "execution_count": 40,
   "metadata": {
    "colab": {
     "base_uri": "https://localhost:8080/",
     "height": 1000
    },
    "id": "G724-b7-YBgL",
    "outputId": "b9cfdc97-227d-4dd6-8630-1b9360e5e985"
   },
   "outputs": [
    {
     "name": "stdout",
     "output_type": "stream",
     "text": [
      "Epoch 1/100\n",
      "114/114 [==============================] - 5s 6ms/step - loss: 2.9041e-04\n",
      "Epoch 2/100\n",
      "114/114 [==============================] - 1s 6ms/step - loss: 7.2172e-06\n",
      "Epoch 3/100\n",
      "114/114 [==============================] - 1s 7ms/step - loss: 7.2845e-06\n",
      "Epoch 4/100\n",
      "114/114 [==============================] - 1s 10ms/step - loss: 7.2764e-06\n",
      "Epoch 5/100\n",
      "114/114 [==============================] - 1s 8ms/step - loss: 7.3649e-06\n",
      "Epoch 6/100\n",
      "114/114 [==============================] - 1s 7ms/step - loss: 7.1052e-06\n",
      "Epoch 7/100\n",
      "114/114 [==============================] - 1s 7ms/step - loss: 6.8773e-06\n",
      "Epoch 8/100\n",
      "114/114 [==============================] - 1s 7ms/step - loss: 7.1830e-06\n",
      "Epoch 9/100\n",
      "114/114 [==============================] - 1s 7ms/step - loss: 6.9167e-06\n",
      "Epoch 10/100\n",
      "114/114 [==============================] - 1s 6ms/step - loss: 6.6116e-06\n",
      "Epoch 11/100\n",
      "114/114 [==============================] - 1s 6ms/step - loss: 6.5090e-06\n",
      "Epoch 12/100\n",
      "114/114 [==============================] - 1s 7ms/step - loss: 6.4129e-06\n",
      "Epoch 13/100\n",
      "114/114 [==============================] - 1s 10ms/step - loss: 6.2492e-06\n",
      "Epoch 14/100\n",
      "114/114 [==============================] - 1s 10ms/step - loss: 6.2219e-06\n",
      "Epoch 15/100\n",
      "114/114 [==============================] - 1s 9ms/step - loss: 6.3195e-06\n",
      "Epoch 16/100\n",
      "114/114 [==============================] - 1s 7ms/step - loss: 5.5802e-06\n",
      "Epoch 17/100\n",
      "114/114 [==============================] - 1s 6ms/step - loss: 5.7954e-06\n",
      "Epoch 18/100\n",
      "114/114 [==============================] - 1s 6ms/step - loss: 5.5249e-06\n",
      "Epoch 19/100\n",
      "114/114 [==============================] - 1s 6ms/step - loss: 5.3804e-06\n",
      "Epoch 20/100\n",
      "114/114 [==============================] - 1s 6ms/step - loss: 5.3020e-06\n",
      "Epoch 21/100\n",
      "114/114 [==============================] - 1s 6ms/step - loss: 5.5249e-06\n",
      "Epoch 22/100\n",
      "114/114 [==============================] - 1s 6ms/step - loss: 5.4134e-06\n",
      "Epoch 23/100\n",
      "114/114 [==============================] - 1s 6ms/step - loss: 5.0743e-06\n",
      "Epoch 24/100\n",
      "114/114 [==============================] - 1s 6ms/step - loss: 4.9480e-06\n",
      "Epoch 25/100\n",
      "114/114 [==============================] - 1s 6ms/step - loss: 4.5637e-06\n",
      "Epoch 26/100\n",
      "114/114 [==============================] - 1s 6ms/step - loss: 5.1158e-06\n",
      "Epoch 27/100\n",
      "114/114 [==============================] - 1s 6ms/step - loss: 4.3624e-06\n",
      "Epoch 28/100\n",
      "114/114 [==============================] - 1s 6ms/step - loss: 4.1762e-06\n",
      "Epoch 29/100\n",
      "114/114 [==============================] - 1s 9ms/step - loss: 4.4622e-06\n",
      "Epoch 30/100\n",
      "114/114 [==============================] - 1s 10ms/step - loss: 4.2402e-06\n",
      "Epoch 31/100\n",
      "114/114 [==============================] - 1s 9ms/step - loss: 4.0255e-06\n",
      "Epoch 32/100\n",
      "114/114 [==============================] - 1s 6ms/step - loss: 4.2022e-06\n",
      "Epoch 33/100\n",
      "114/114 [==============================] - 1s 6ms/step - loss: 4.1549e-06\n",
      "Epoch 34/100\n",
      "114/114 [==============================] - 1s 6ms/step - loss: 4.1204e-06\n",
      "Epoch 35/100\n",
      "114/114 [==============================] - 1s 6ms/step - loss: 4.0594e-06\n",
      "Epoch 36/100\n",
      "114/114 [==============================] - 1s 7ms/step - loss: 3.6295e-06\n",
      "Epoch 37/100\n",
      "114/114 [==============================] - 1s 6ms/step - loss: 3.8889e-06\n",
      "Epoch 38/100\n",
      "114/114 [==============================] - 1s 6ms/step - loss: 3.6185e-06\n",
      "Epoch 39/100\n",
      "114/114 [==============================] - 1s 6ms/step - loss: 3.6165e-06\n",
      "Epoch 40/100\n",
      "114/114 [==============================] - 1s 6ms/step - loss: 3.7351e-06\n",
      "Epoch 41/100\n",
      "114/114 [==============================] - 1s 7ms/step - loss: 3.7412e-06\n",
      "Epoch 42/100\n",
      "114/114 [==============================] - 1s 7ms/step - loss: 3.4800e-06\n",
      "Epoch 43/100\n",
      "114/114 [==============================] - 1s 8ms/step - loss: 3.5287e-06\n",
      "Epoch 44/100\n",
      "114/114 [==============================] - 1s 7ms/step - loss: 3.6842e-06\n",
      "Epoch 45/100\n",
      "114/114 [==============================] - 1s 10ms/step - loss: 3.5261e-06\n",
      "Epoch 46/100\n",
      "114/114 [==============================] - 1s 10ms/step - loss: 3.4210e-06\n",
      "Epoch 47/100\n",
      "114/114 [==============================] - 1s 8ms/step - loss: 3.4064e-06\n",
      "Epoch 48/100\n",
      "114/114 [==============================] - 1s 6ms/step - loss: 3.4159e-06\n",
      "Epoch 49/100\n",
      "114/114 [==============================] - 1s 6ms/step - loss: 3.1798e-06\n",
      "Epoch 50/100\n",
      "114/114 [==============================] - 1s 6ms/step - loss: 3.1722e-06\n",
      "Epoch 51/100\n",
      "114/114 [==============================] - 1s 6ms/step - loss: 3.0715e-06\n",
      "Epoch 52/100\n",
      "114/114 [==============================] - 1s 7ms/step - loss: 3.1040e-06\n",
      "Epoch 53/100\n",
      "114/114 [==============================] - 1s 6ms/step - loss: 3.3251e-06\n",
      "Epoch 54/100\n",
      "114/114 [==============================] - 1s 6ms/step - loss: 3.2675e-06\n",
      "Epoch 55/100\n",
      "114/114 [==============================] - 1s 6ms/step - loss: 3.3230e-06\n",
      "Epoch 56/100\n",
      "114/114 [==============================] - 1s 6ms/step - loss: 3.1735e-06\n",
      "Epoch 57/100\n",
      "114/114 [==============================] - 1s 7ms/step - loss: 3.0146e-06\n",
      "Epoch 58/100\n",
      "114/114 [==============================] - 1s 7ms/step - loss: 2.9341e-06\n",
      "Epoch 59/100\n",
      "114/114 [==============================] - 1s 7ms/step - loss: 3.0825e-06\n",
      "Epoch 60/100\n",
      "114/114 [==============================] - 1s 6ms/step - loss: 3.0172e-06\n",
      "Epoch 61/100\n",
      "114/114 [==============================] - 1s 10ms/step - loss: 2.9393e-06\n",
      "Epoch 62/100\n",
      "114/114 [==============================] - 1s 10ms/step - loss: 2.8637e-06\n",
      "Epoch 63/100\n",
      "114/114 [==============================] - 1s 8ms/step - loss: 2.8434e-06\n",
      "Epoch 64/100\n",
      "114/114 [==============================] - 1s 6ms/step - loss: 2.9319e-06\n",
      "Epoch 65/100\n",
      "114/114 [==============================] - 1s 6ms/step - loss: 2.6271e-06\n",
      "Epoch 66/100\n",
      "114/114 [==============================] - 1s 6ms/step - loss: 2.5929e-06\n",
      "Epoch 67/100\n",
      "114/114 [==============================] - 1s 6ms/step - loss: 2.7226e-06\n",
      "Epoch 68/100\n",
      "114/114 [==============================] - 1s 7ms/step - loss: 2.6317e-06\n",
      "Epoch 69/100\n",
      "114/114 [==============================] - 1s 7ms/step - loss: 2.7105e-06\n",
      "Epoch 70/100\n",
      "114/114 [==============================] - 1s 7ms/step - loss: 2.6969e-06\n",
      "Epoch 71/100\n",
      "114/114 [==============================] - 1s 7ms/step - loss: 2.6034e-06\n",
      "Epoch 72/100\n",
      "114/114 [==============================] - 1s 6ms/step - loss: 2.5576e-06\n",
      "Epoch 73/100\n",
      "114/114 [==============================] - 1s 7ms/step - loss: 2.7415e-06\n",
      "Epoch 74/100\n",
      "114/114 [==============================] - 1s 6ms/step - loss: 2.4996e-06\n",
      "Epoch 75/100\n",
      "114/114 [==============================] - 1s 6ms/step - loss: 2.6496e-06\n",
      "Epoch 76/100\n",
      "114/114 [==============================] - 1s 7ms/step - loss: 2.6821e-06\n",
      "Epoch 77/100\n",
      "114/114 [==============================] - 1s 11ms/step - loss: 2.6181e-06\n",
      "Epoch 78/100\n",
      "114/114 [==============================] - 1s 11ms/step - loss: 2.5956e-06\n",
      "Epoch 79/100\n",
      "114/114 [==============================] - 1s 7ms/step - loss: 2.6236e-06\n",
      "Epoch 80/100\n",
      "114/114 [==============================] - 1s 6ms/step - loss: 2.5491e-06\n",
      "Epoch 81/100\n",
      "114/114 [==============================] - 1s 7ms/step - loss: 2.4762e-06\n",
      "Epoch 82/100\n",
      "114/114 [==============================] - 1s 7ms/step - loss: 2.7725e-06\n",
      "Epoch 83/100\n",
      "114/114 [==============================] - 1s 7ms/step - loss: 2.3246e-06\n",
      "Epoch 84/100\n",
      "114/114 [==============================] - 1s 7ms/step - loss: 2.4148e-06\n",
      "Epoch 85/100\n",
      "114/114 [==============================] - 1s 6ms/step - loss: 2.5042e-06\n",
      "Epoch 86/100\n",
      "114/114 [==============================] - 1s 6ms/step - loss: 2.3642e-06\n",
      "Epoch 87/100\n",
      "114/114 [==============================] - 1s 6ms/step - loss: 2.4825e-06\n",
      "Epoch 88/100\n",
      "114/114 [==============================] - 1s 6ms/step - loss: 2.5602e-06\n",
      "Epoch 89/100\n",
      "114/114 [==============================] - 1s 6ms/step - loss: 2.4096e-06\n",
      "Epoch 90/100\n",
      "114/114 [==============================] - 1s 7ms/step - loss: 2.4712e-06\n",
      "Epoch 91/100\n",
      "114/114 [==============================] - 1s 6ms/step - loss: 2.5010e-06\n",
      "Epoch 92/100\n",
      "114/114 [==============================] - 1s 9ms/step - loss: 2.4622e-06\n",
      "Epoch 93/100\n",
      "114/114 [==============================] - 1s 10ms/step - loss: 2.3454e-06\n",
      "Epoch 94/100\n",
      "114/114 [==============================] - 1s 9ms/step - loss: 2.3043e-06\n",
      "Epoch 95/100\n",
      "114/114 [==============================] - 1s 6ms/step - loss: 2.4190e-06\n",
      "Epoch 96/100\n",
      "114/114 [==============================] - 1s 6ms/step - loss: 2.3791e-06\n",
      "Epoch 97/100\n",
      "114/114 [==============================] - 1s 6ms/step - loss: 2.2893e-06\n",
      "Epoch 98/100\n",
      "114/114 [==============================] - 1s 6ms/step - loss: 2.2827e-06\n",
      "Epoch 99/100\n",
      "114/114 [==============================] - 1s 6ms/step - loss: 2.3519e-06\n",
      "Epoch 100/100\n",
      "114/114 [==============================] - 1s 7ms/step - loss: 2.3433e-06\n",
      "57/57 [==============================] - 1s 2ms/step\n"
     ]
    },
    {
     "data": {
      "image/png": "[encoded data removed]",
      "text/plain": [
       "<Figure size 1200x600 with 1 Axes>"
      ]
     },
     "metadata": {},
     "output_type": "display_data"
    }
   ],
   "source": [
    "from sklearn.preprocessing import MinMaxScaler\n",
    "from tensorflow import keras\n",
    "\n",
    "# Assuming you have loaded your data and performed preprocessing as before\n",
    "# ...\n",
    "\n",
    "# Define the sequence length and number of features\n",
    "sequence_length = 10  # You can adjust this value\n",
    "num_features = 1  # Assuming you are using only the 'Open' price as a feature\n",
    "\n",
    "# Create sequences for the LSTM\n",
    "def create_sequences(data, sequence_length):\n",
    "    X, y = [], []\n",
    "    for i in range(len(data) - sequence_length):\n",
    "        X.append(data[i:i + sequence_length])\n",
    "        y.append(data[i + sequence_length:i + sequence_length + 1])\n",
    "    return np.array(X), np.array(y)\n",
    "\n",
    "X, y = create_sequences(data, sequence_length)\n",
    "\n",
    "# Split the data into training and testing sets\n",
    "train_size = int(len(X) * 0.8)\n",
    "X_train, X_test = X[:train_size], X[train_size:]\n",
    "y_train, y_test = y[:train_size], y[train_size:]\n",
    "\n",
    "# Build the LSTM model\n",
    "model = keras.Sequential([\n",
    "    keras.layers.LSTM(50, input_shape=(sequence_length, num_features)),\n",
    "    keras.layers.Dense(2)  # Two output neurons: one for the current open price and one for the next open price\n",
    "])\n",
    "\n",
    "model.compile(optimizer='adam', loss='mean_squared_error')\n",
    "\n",
    "# Train the model\n",
    "model.fit(X_train, y_train, epochs=100, batch_size=64)\n",
    "\n",
    "# Make predictions\n",
    "predicted = model.predict(X_test)\n",
    "\n",
    "# Inverse transform the predictions\n",
    "predicted = scaler.inverse_transform(predicted)\n",
    "\n",
    "# Separate the predictions into current and next open prices\n",
    "current_open_predictions = predicted[:, 0]\n",
    "next_open_predictions = predicted[:, 1]\n",
    "\n",
    "# Create a DataFrame for better visualization\n",
    "df_predicted = pd.DataFrame({'Current Open Predicted': current_open_predictions, 'Next Open Predicted': next_open_predictions}, index=df.index[-len(current_open_predictions):])\n",
    "\n",
    "# Plot the predictions\n",
    "plt.figure(figsize=(12, 6))\n",
    "plt.plot(df_predicted.index, df_predicted['Current Open Predicted'], label='Current Open Predicted', color='red', linewidth=1)\n",
    "plt.plot(df_predicted.index, df_predicted['Next Open Predicted'], label='Next Open Predicted', color='blue', linewidth=0.5)\n",
    "plt.xlabel('Date')\n",
    "plt.ylabel('Open Price')\n",
    "plt.title('Current and Next Open Price Predictions')\n",
    "plt.legend()\n",
    "plt.show()"
   ]
  },
  {
   "cell_type": "code",
   "execution_count": null,
   "metadata": {
    "id": "O1_0Kj9sYGv0"
   },
   "outputs": [],
   "source": []
  }
 ],
 "metadata": {
  "colab": {
   "provenance": []
  },
  "kernelspec": {
   "display_name": "Python 3",
   "language": "python",
   "name": "python3"
  },
  "language_info": {
   "codemirror_mode": {
    "name": "ipython",
    "version": 3
   },
   "file_extension": ".py",
   "mimetype": "text/x-python",
   "name": "python",
   "nbconvert_exporter": "python",
   "pygments_lexer": "ipython3",
   "version": "3.8.8"
  }
 },
 "nbformat": 4,
 "nbformat_minor": 1
}
